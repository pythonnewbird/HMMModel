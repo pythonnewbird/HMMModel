{
 "cells": [
  {
   "cell_type": "code",
   "execution_count": 19,
   "metadata": {
    "collapsed": true
   },
   "outputs": [],
   "source": [
    "import numpy as np"
   ]
  },
  {
   "cell_type": "code",
   "execution_count": null,
   "metadata": {
    "collapsed": true
   },
   "outputs": [],
   "source": [
    "class HMM():\n",
    "\n",
    "    def __init__(self, A, B, pi):\n",
    "        self.A = A\n",
    "        self.B = B\n",
    "        self.pi = pi\n",
    "    def simulate(self, T):\n",
    "        # draw_from接受一个概率分布，然后生成该分布下的一个样本。    \n",
    "        def draw_from(probs):\n",
    "            return np.where(np.random.multinomial(1, probs) == 1)[0][0]\n",
    "        observations = np.zeros(T, dtype=int)\n",
    "        states = np.zeros(T, dtype=int)    \n",
    "        states[0] = draw_from(self.pi)\n",
    "        observations[0] = draw_from(self.B[states[0], :])\n",
    "        for t in range(1, T):\n",
    "            states[t] = draw_from(self.A[states[t-1], :])\n",
    "            observations[t] = draw_from(self.B[states[t], :])\n",
    "        return states, observations\n",
    "    def forward(self, obs_seq):\n",
    "        \"\"\"前向算法\"\"\"\n",
    "        N = self.A.shape[0]\n",
    "        T = len(obs_seq)\n",
    "        F = np.zeros((N, T))\n",
    "        F[:, 0] = self.pi * self.B[:, obs_seq[0]]\n",
    "        for t in range(1, T):\n",
    "            for n in range(N):\n",
    "                F[n, t] = np.dot(F[:, t-1], (self.A[:, n])) * self.B[n, obs_seq[t]]\n",
    "        return F\n",
    "    def backward(self, obs_seq):\n",
    "        \"\"\"后向算法\"\"\"\n",
    "        N = self.A.shape[0]\n",
    "        T = len(obs_seq)\n",
    "        M = np.zeros((N, T))\n",
    "        M[:, T-1] = 1\n",
    "        # 或者M[:, -1:] = 1，列上表示最后一行\n",
    "        for t in reversed(range(T-1)):\n",
    "            for n in range(N):\n",
    "                M[n, t] = np.dot(self.A[n, :], M[:, t+1]) * self.B[n, obs_seq[t+1]]\n",
    "        return M\n",
    "    def EM(self, observation, criterion=0.05):\n",
    "        \"\"\"EM算法进行参数学习\"\"\"\n",
    "        n_state = self.A.shape[0]\n",
    "        n_sample = len(observation)\n",
    "        done = 1\n",
    "        while done:\n",
    "            Alpha = self.forward(observation)\n",
    "            Beta = self.backward(observation)\n",
    "            xi = np.zeros((n_state, n_state, n_sample-1))\n",
    "            gamma = np.zeros((n_state, n_sample))\n",
    "            for t in range(n_sample-1):\n",
    "                denom = np.sum(np.dot(Alpha[:, t].T, self.A) * self.B[:, observation[t+1]].T * Beta[:, t+1].T)\n",
    "                sum_gamma1 = np.sum(Alpha[:, t] * Beta[:, t])\n",
    "                for i in range(n_state):\n",
    "                    numer = Alpha[i, t] * self.A[i, :] * self.B[:, observation[t+1]].T * Beta[:, t+1].T\n",
    "                    xi[i, :, t] = numer/denom\n",
    "                gamma[i, t] = Alpha[i, t] * Beta[i, t] / sum_gamma1\n",
    "            last_col = Alpha[:, n_sample-1].T * Beta[:, n_sample-1]\n",
    "            gamma[:, n_sample-1] = last_col / np.sum(last_col)\n",
    "            # 更新参数\n",
    "            n_pi = gamma[:, 0]\n",
    "            n_A = np.sum(xi, 2) / np.sum(gamma[:, :-1], 1)\n",
    "            n_B = np.copy(self.B)\n",
    "            num_level = self.B.shape[1]\n",
    "            sum_gamma = 0\n",
    "            a = 0\n",
    "            for lev in range(num_level):\n",
    "                for h in range(n_state):\n",
    "                    for t in range(n_sample):\n",
    "                        sum_gamma = sum_gamma + gamma[h, t]\n",
    "                        if observation[t] == lev:\n",
    "                            a = a + gamma[h, t]\n",
    "                    n_B[h, lev] = a / sum_gamma\n",
    "                    a = 0\n",
    "            # 检查阈值\n",
    "            if np.max(np.abs(self.pi-n_pi)) < criterion and np.max(np.abs(self.B-n_B)) < criterion \\\n",
    "                    and np.max(np.abs(self.A-n_A)) < criterion:\n",
    "                done = 0\n",
    "            self.A, self.B, self.pi = n_A, n_B, n_pi\n",
    "        return self.A, self.B, self.pi  \n",
    "    def viterbi(self, obs_seq):\n",
    "        \"\"\"viterbi算法预测状态序列\"\"\"\n",
    "        N = self.A.shape[0]\n",
    "        T = len(obs_seq)\n",
    "        P = np.zeros((N, T))\n",
    "        prev_point = np.zeros((N, T))\n",
    "        prev_point[:, 0] = 0\n",
    "        P[:, 0] = self.pi * self.B[:, obs_seq[0]]\n",
    "        for t in range(1, T):\n",
    "            for n in range(N):\n",
    "                P[n, t] = np.max(P[:, t - 1] * self.A[:, n]) * self.B[n, obs_seq[t]]\n",
    "                prev_point[n, t] = np.argmax(P[:, t - 1] * self.A[:, n] * self.B[n, obs_seq[t]])\n",
    "        return P, prev_point\n",
    "    #最优路径其实也是维特比算法的一部分，当已经确定了T时刻的最优状态i，接下来通过回溯的方式找到最优路径。\n",
    "    def build_path(self, obs_seq):\n",
    "        \"\"\"最优路径生成\"\"\"\n",
    "        P, prev_point = self.viterbi(obs_seq)\n",
    "        T = len(obs_seq)\n",
    "        opt_path = np.zeros(T)\n",
    "        last_state = np.argmax(P[:, T-1])\n",
    "        opt_path[T-1] = last_state\n",
    "        for t in reversed(range(T-1)):\n",
    "            opt_path[t] = prev_point[int(opt_path[t+1]), t+1]\n",
    "        last_path = reversed(opt_path)\n",
    "        return last_path"
   ]
  },
  {
   "cell_type": "code",
   "execution_count": null,
   "metadata": {
    "collapsed": false
   },
   "outputs": [
    {
     "name": "stdout",
     "output_type": "stream",
     "text": [
      "[[ 0.1       0.077     0.04187 ]\n",
      " [ 0.16      0.1104    0.035512]\n",
      " [ 0.28      0.0606    0.052836]]\n",
      "[[ 0.27   0.5    1.   ]\n",
      " [ 0.294  0.4    1.   ]\n",
      " [ 0.171  0.7    1.   ]]\n",
      "(array([[ 0.1    ,  0.028  ,  0.00756],\n",
      "       [ 0.16   ,  0.0504 ,  0.01008],\n",
      "       [ 0.28   ,  0.042  ,  0.0147 ]]), array([[ 0.,  2.,  1.],\n",
      "       [ 0.,  2.,  1.],\n",
      "       [ 0.,  2.,  2.]]))\n",
      "<reversed object at 0x000001977689FEB8>\n"
     ]
    },
    {
     "name": "stderr",
     "output_type": "stream",
     "text": [
      "C:\\Users\\pc\\ana\\lib\\site-packages\\ipykernel\\__main__.py:61: RuntimeWarning: divide by zero encountered in true_divide\n",
      "C:\\Users\\pc\\ana\\lib\\site-packages\\ipykernel\\__main__.py:38: RuntimeWarning: invalid value encountered in double_scalars\n",
      "C:\\Users\\pc\\ana\\lib\\site-packages\\ipykernel\\__main__.py:54: RuntimeWarning: invalid value encountered in multiply\n"
     ]
    }
   ],
   "source": [
    "if __name__ == '__main__':\n",
    "    #测试\n",
    "    A = np.array([[0.5, 0.2, 0.3], [0.3, 0.5, 0.2], [0.2, 0.3, 0.5]])\n",
    "    B = np.array([[0.5, 0.5], [0.4, 0.6], [0.7, 0.3]])\n",
    "    pi = np.array([0.2, 0.4, 0.4])\n",
    "    test1 = HMM(A, B, pi)\n",
    "    obs_seq = [0, 1, 0]\n",
    "    print(test1.forward(obs_seq))\n",
    "    print(test1.backward(obs_seq))\n",
    "    print(test1.viterbi(obs_seq))\n",
    "    print(test1.build_path(obs_seq))\n",
    "    print(test1.EM(obs_seq))"
   ]
  },
  {
   "cell_type": "code",
   "execution_count": null,
   "metadata": {
    "collapsed": true
   },
   "outputs": [],
   "source": []
  }
 ],
 "metadata": {
  "kernelspec": {
   "display_name": "Python [conda root]",
   "language": "python",
   "name": "conda-root-py"
  },
  "language_info": {
   "codemirror_mode": {
    "name": "ipython",
    "version": 3
   },
   "file_extension": ".py",
   "mimetype": "text/x-python",
   "name": "python",
   "nbconvert_exporter": "python",
   "pygments_lexer": "ipython3",
   "version": "3.5.2"
  }
 },
 "nbformat": 4,
 "nbformat_minor": 2
}
